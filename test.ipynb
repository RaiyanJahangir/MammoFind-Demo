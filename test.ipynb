{
 "cells": [
  {
   "cell_type": "code",
   "execution_count": 3,
   "metadata": {},
   "outputs": [],
   "source": [
    "import pandas as pd\n",
    "filename = \"Mammography_Dataset.xlsx\"\n",
    "MainSheet = pd.read_excel(filename, sheet_name='main', skiprows=0)\n",
    "TaskDescriptionSheet = pd.read_excel(filename, sheet_name='TaskDescription', skiprows=0)\n",
    "StatusDescriptionSheet = pd.read_excel(filename, sheet_name='StatusDescription', skiprows=0)\n",
    "DatatypeDescriptionSheet = pd.read_excel(filename, sheet_name='DatatypeDescription', skiprows=0)\n",
    "FiletypeDescriptionSheet = pd.read_excel(filename, sheet_name='FiletypeDescription', skiprows=0)\n",
    "LocationDescriptionSheet = pd.read_excel(filename, sheet_name='LocationDescription', skiprows=0)"
   ]
  },
  {
   "cell_type": "code",
   "execution_count": 4,
   "metadata": {},
   "outputs": [
    {
     "data": {
      "text/html": [
       "<div>\n",
       "<style scoped>\n",
       "    .dataframe tbody tr th:only-of-type {\n",
       "        vertical-align: middle;\n",
       "    }\n",
       "\n",
       "    .dataframe tbody tr th {\n",
       "        vertical-align: top;\n",
       "    }\n",
       "\n",
       "    .dataframe thead th {\n",
       "        text-align: right;\n",
       "    }\n",
       "</style>\n",
       "<table border=\"1\" class=\"dataframe\">\n",
       "  <thead>\n",
       "    <tr style=\"text-align: right;\">\n",
       "      <th></th>\n",
       "      <th>LocationName</th>\n",
       "      <th>DescriptionOfTheLocation</th>\n",
       "    </tr>\n",
       "  </thead>\n",
       "  <tbody>\n",
       "    <tr>\n",
       "      <th>0</th>\n",
       "      <td>USA</td>\n",
       "      <td>A country in North America</td>\n",
       "    </tr>\n",
       "    <tr>\n",
       "      <th>1</th>\n",
       "      <td>Sweden</td>\n",
       "      <td>A country in Europe</td>\n",
       "    </tr>\n",
       "    <tr>\n",
       "      <th>2</th>\n",
       "      <td>UK</td>\n",
       "      <td>A country in Europe</td>\n",
       "    </tr>\n",
       "    <tr>\n",
       "      <th>3</th>\n",
       "      <td>Vietnam</td>\n",
       "      <td>A country in Asia</td>\n",
       "    </tr>\n",
       "    <tr>\n",
       "      <th>4</th>\n",
       "      <td>Australia</td>\n",
       "      <td>A country in Oceania</td>\n",
       "    </tr>\n",
       "    <tr>\n",
       "      <th>5</th>\n",
       "      <td>China</td>\n",
       "      <td>A country in Asia</td>\n",
       "    </tr>\n",
       "    <tr>\n",
       "      <th>6</th>\n",
       "      <td>Portugal</td>\n",
       "      <td>A country in Europe</td>\n",
       "    </tr>\n",
       "    <tr>\n",
       "      <th>7</th>\n",
       "      <td>Saudi Arabia</td>\n",
       "      <td>A country in Asia</td>\n",
       "    </tr>\n",
       "    <tr>\n",
       "      <th>8</th>\n",
       "      <td>India</td>\n",
       "      <td>A country in Asia</td>\n",
       "    </tr>\n",
       "    <tr>\n",
       "      <th>9</th>\n",
       "      <td>Brazil</td>\n",
       "      <td>A country in South America</td>\n",
       "    </tr>\n",
       "    <tr>\n",
       "      <th>10</th>\n",
       "      <td>Greece</td>\n",
       "      <td>A country in Europe</td>\n",
       "    </tr>\n",
       "    <tr>\n",
       "      <th>11</th>\n",
       "      <td>Taiwan</td>\n",
       "      <td>A country in Asia</td>\n",
       "    </tr>\n",
       "    <tr>\n",
       "      <th>12</th>\n",
       "      <td>Spain</td>\n",
       "      <td>A country in Europe</td>\n",
       "    </tr>\n",
       "    <tr>\n",
       "      <th>13</th>\n",
       "      <td>Italy</td>\n",
       "      <td>A country in Europe</td>\n",
       "    </tr>\n",
       "    <tr>\n",
       "      <th>14</th>\n",
       "      <td>Switzerland</td>\n",
       "      <td>A country in Europe</td>\n",
       "    </tr>\n",
       "  </tbody>\n",
       "</table>\n",
       "</div>"
      ],
      "text/plain": [
       "    LocationName    DescriptionOfTheLocation\n",
       "0            USA  A country in North America\n",
       "1         Sweden         A country in Europe\n",
       "2             UK         A country in Europe\n",
       "3        Vietnam           A country in Asia\n",
       "4      Australia        A country in Oceania\n",
       "5          China           A country in Asia\n",
       "6       Portugal         A country in Europe\n",
       "7   Saudi Arabia           A country in Asia\n",
       "8          India           A country in Asia\n",
       "9         Brazil  A country in South America\n",
       "10        Greece         A country in Europe\n",
       "11        Taiwan           A country in Asia\n",
       "12         Spain         A country in Europe\n",
       "13         Italy         A country in Europe\n",
       "14   Switzerland         A country in Europe"
      ]
     },
     "execution_count": 4,
     "metadata": {},
     "output_type": "execute_result"
    }
   ],
   "source": [
    "LocationDescriptionSheet"
   ]
  },
  {
   "cell_type": "code",
   "execution_count": 11,
   "metadata": {},
   "outputs": [],
   "source": [
    "combined_context=\"\"\n",
    "combined_context = \"\\n\".join(\n",
    "    MainSheet.apply(lambda row: \" | \".join(map(str, row.values)), axis=1)\n",
    ") + \"\\n\"\n",
    "combined_context += \"\\n\".join(\n",
    "    TaskDescriptionSheet.apply(lambda row: \" | \".join(map(str, row.values)), axis=1)\n",
    ") + \"\\n\"\n",
    "combined_context += \"\\n\".join(\n",
    "    StatusDescriptionSheet.apply(lambda row: \" | \".join(map(str, row.values)), axis=1)\n",
    ") + \"\\n\"\n",
    "combined_context += \"\\n\".join(\n",
    "    DatatypeDescriptionSheet.apply(lambda row: \" | \".join(map(str, row.values)), axis=1)\n",
    ") + \"\\n\"\n",
    "combined_context += \"\\n\".join(\n",
    "    FiletypeDescriptionSheet.apply(lambda row: \" | \".join(map(str, row.values)), axis=1)\n",
    ") + \"\\n\"\n",
    "combined_context += \"\\n\".join(\n",
    "   LocationDescriptionSheet.apply(lambda row: \" | \".join(map(str, row.values)), axis=1)\n",
    ") + \"\\n\""
   ]
  },
  {
   "cell_type": "code",
   "execution_count": 12,
   "metadata": {},
   "outputs": [
    {
     "data": {
      "text/plain": [
       "\"EMBED | EMory BrEast imaging Dataset.\\n\\n3 383 659  screening and diagnostic mammogram images from 115 910 patients. Among these, 20% of the total 2D and C-view dataset and is available for research use. | Breast_Cancer_Detection, Breast_Cancer_Risk_Prediction, Mammographic_Report_Generation, Breast_Cancer_Type_Classification, Breast_Tumor_Classification, Tumor_Localization, Breast_Density_Estimation,  Synthetic_Data_Generation | Available at https://aws.amazon.com/marketplace/pp/prodview-unw4li5rkivs2#overview | The EMory BrEast imaging Dataset (EMBED): A RaciallyDiverse, Granular Dataset of 3.4 Million Screening andDiagnostic Mammographic Images | Need to sign agreement to access | Mammogram_Images | Dcm  | USA\\nDREAM | Dialogue on Reverse Engineering Assessment and Methods.\\n 144\\u202f231 screening mammograms from 85\\u202f580 women from the United States and 166\\u202f578 screening mammograms from 68\\u202f008 women from Sweden. | Breast_Cancer_Detection, Breast_Tumor_Classification | Metadata files available at https://www.synapse.org/Synapse:syn1918762 | Evaluation of Combined Artificial Intelligence and Radiologist Assessment to Interpret Screening Mammograms | Not Accessible | Mammogram_Images | Csv | USA, Sweden\\nCBIS-DDSM | Curated Breast Imaging Sub-set of the Digital Database for Screening Mammography. \\n2620 scanned film mammograms converted into dicom images making a total of 10,239 images. | Breast_Cancer_Detection, Breast_Tumor_Classification, Image_Segmentation, Mammographic_Report_Generation, Multi_Modal_Learning, Synthetic_Data_Generation | Available at https://www.cancerimagingarchive.net/collection/cbis-ddsm/ | A curated mammography data set for use in computer-aided detection and diagnosis research | Accessible | Mammogram_Images, Radiomic_Features | Dcm, Csv | USA\\nRBIS-DDSM | Re-curated Breast Imaging Subset of the Digital Database for Screening Mammography. Its an updated, extended, and standardized version of CBIS-DDSM. It contains 849 mammogram images  | Breast_Cancer_Detection, Breast_Tumor_Classification, Image_Segmentation, Mammographic_Report_Generation, Multi_Modal_Learning, Synthetic_Data_Generation | Available at https://ieee-dataport.org/documents/re-curated-breast-imaging-subset-ddsm-dataset-rbis-ddsm | No associated paper | Accessible | Mammogram_Images, Radiomic_Features | Dcm, Csv | USA\\n OPTIMAM | 3\\u2009072\\u2009878 images from 172\\u2009282 women.\\n\\n4 classes: Normal, interval Cancer, benign, malignant.\\n\\nOf the 7661 screen-detected cancers from episodes with digital images, 5097 have been marked (67% of cancers). | Breast_Cancer_Detection, Breast_Cancer_Risk_Prediction, Breast_Cancer_Type_Classification, Synthetic_Data_Generation, Tumor_Localization | Available at https://medphys.royalsurrey.nhs.uk/omidb/ | OPTIMAM Mammography Image Database: A Large-Scale Resource of Mammography Images and Clinical Data | Need to sign agreement to access | Mammogram_Images, Clinical_Data | Dcm, Csv | UK\\nOMI-DB | Oncology Medical Image DataBase.\\n34,104 2D mammography images from 2,623 individuals. | Breast_Cancer_Detection | Not available | The oncology medical image database (OMI-DB) | Not Accessible | Mammogram_Images | Dcm | UK\\nDDSM | Digital Database for Screening Mammography.\\n 2620 scanned film mammograms (images), 339 images with abnormalities, 373 normal cases, 223 cancer cases. | Breast_Cancer_Detection, Lesion_Localization | Available at http://www.eng.usf.edu/cvprg/Mammography/Database.html\\nAnother modified version avaialble at Kaggle: https://www.kaggle.com/datasets/skooch/ddsm-mammography | Current Status of the Digital Database for Screening Mammography | Accessible | Mammogram_Images, Metadata | Ics, Overlay, Ljpeg | USA\\nMIAS | Mammographic Imaging Analysis Society. Database contains 332 images. | Breast_Cancer_Detection, Lesion_Localization, Breast_Cancer_Type_Classification | Available at https://www.repository.cam.ac.uk/items/b6a97f0c-3b9b-40ad-8f18-3d121eef1459 | The mammographic images analysis society digital mammogram database | Accessible | Mammogram_Images, Metadata | Pgm, Tar, Tz, Txt | UK\\nVinDr-Mammo | 20000 images from 5000 exams (4-view),\\n\\n241 of these findings are marked BIRADS 5,\\n\\n995 of the findings are marked BIRADS 4,\\n\\n2254 of the findings are marked BIRADS 3, | Breast_Cancer_Detection, Breast_Cancer_Risk_Prediction, Mammographic_Report_Generation, Breast_Cancer_Type_Classification, Breast_Tumor_Classification, Tumor_Localization, Breast_Density_Estimation,  Synthetic_Data_Generation, Anomaly_Detection, Multi_Modal_Learning | Available at https://www.physionet.org/content/vindr-mammo/1.0.0/\\nFree version available at Kaggle: https://www.kaggle.com/datasets/shantanughosh/vindr-mammogram-dataset-dicom-to-png | VinDr-Mammo: A large-scale benchmark dataset for computer-aided detection and diagnosis in full-field digital mammography | Accessible, Need to sign agreement to access | Mammogram_Images, Metadata | Dcm, Png, Csv | Vietnam\\nRSNA | Royal Society of North America.\\n54713 image files (54706 in training set), 1158 cancer images, 53548 non_cancer images, 11427 patients negative, 486 patients positive. | Breast_Cancer_Detection, Class_Balancing | Available at https://www.kaggle.com/competitions/rsna-breast-cancer-detection/data | No associated paper | Accessible | Mammogram_Images, Metadata | Dcm | USA, Australia\\nCMMD | Chinese MaMmography Database.\\n3,728 mammographies from 1,775 patients, patients' molecular subtypes was included for 749 of these patients (1,498 mammographies). Total 5202 images | Mammographic_Report_Generation, Breast_Cancer_Detection, Image_Segmentation, Multi_Modal_Learning, Breast_Cancer_Type_Classification, Synthetic_Data_Generation | Available at https://www.cancerimagingarchive.net/collection/cmmd/#citations | The Chinese Mammography Database (CMMD): An online mammography database with biopsy confirmed types for machine diagnosis of breast | Accessible | Mammogram_Images, Clinical_Data | Dcm, Xlsx | China\\nInbreast | 115 cases (410 images),\\n\\n90 women with 4 images,\\n\\n25 women with 2 images (Masectomy). | Breast_Cancer_Detection, Lesion_Localization, Image_Segmentation, Breast_Density_Estimation, Synthetic_Data_Generation | Available at Kaggle: https://www.kaggle.com/datasets/ramanathansp20/inbreast-dataset | INbreast: toward a full-field digital mammographic database | Accessible | Mammogram_Images, Metadata | Dcm | Portugal\\nBCS-DBT | Contains Digital Breast Tomosynthesis (3D) Images.\\n22,032 reconstructed DBT volumes belonging to 5,610 studies from 5,060 patients.\\n\\n5,129 normal studies,\\n\\n280 studies where additional imaging was needed,\\n\\n112 benign biopsied studies,\\n\\n89 studies with cancer. | Breast_Cancer_Detection, Breast_Density_Estimation, Breast_Cancer_Type_Classification, Tumor_Localization, Multi_Modal_Learning, Synthetic_Data_Generation | Available at https://www.cancerimagingarchive.net/collection/breast-cancer-screening-dbt/ | Detection of masses and architectural distortions in digital breast tomosynthesis: a publicly available dataset of 5,060 patients and a deep learning model | Accessible | Mammogram_Images, Radiomic_Features, Metadata, Clinical_Data, Annotation_Box | Dcm, Xlsx | USA\\nKAU-BCMD | King Abdulaziz University Breast Cancer Mammogram Dataset. First significant mammogram dataset from Saudi Arabia.\\n1416 cases each with 2 views of both breasts making a total of 5664 images.\\n\\nAlso contains 205 ultrasound cases corresponding to a part of the mammogram cases, with 405 images as a total. | BIRADS_Category_Classification, Breast_Cancer_Detection, Tumor_Localization, Breast_Tumor_Classification | Available at https://www.kaggle.com/datasets/asmaasaad/king-abdulaziz-university-mammogram-dataset | King Abdulaziz University Breast Cancer Mammogram Dataset (KAU-BCMD) | Accessible | Mammogram_Images, Metadata | Jpg, Xlsx | Saudi Arabia\\nDMID | Contains 510 images. Among them, 274 are abnormal images, including benign and malignant cases. | Breast_Cancer_Detection,\\nBIRADS_Category_Classification, Mammographic_Report_Generation | Available at https://figshare.com/articles/dataset/_b_Digital_mammography_Dataset_for_Breast_Cancer_Diagnosis_Research_DMID_b_DMID_rar/24522883 | Digital mammography dataset for breast cancer diagnosis research (DMID) with breast mass segmentation analysis | Accessible | Mammogram_Images, Metadata, Radiological_Reports, Annotation_Masks | Dcm, Xlsx,Txt | India\\nBancoWeb | Contains 1400 images from 320 cases. | Breast_Cancer_Detection | Not available | Online Mammographic Images Database for Development and Comparison of CAD Schemes | Need to sign agreement to access | Mammogram_Images | Tiff | Brazil\\nMiracle DB | Contains 204 mammography images collected from 196 patients. | Breast_Cancer_Detection | Not available | A web-accessible mammographic image database dedicated to combined training and evaluation of radiologists and machines | Not Accessible | Mammogram_Images | Tiff | Greece\\nNijmegen | Contains 40 images from 21 cases. | Breast_Cancer_Detection | Not available | A computerized system for detection and segmentation of clustered microcalcifications | Not Accessible | Mammogram_Images | Tiff | Taiwan\\nMalaga | Contains 320 images from 89 cases. | Breast_Cancer_Detection | Not available | Automatic mass segmentation in mammographic images | Not Accessible | Mammogram_Images | Dcm | Spain\\nLLNL | Contains 198 images from 50 cases. | Breast_Cancer_Detection | Not available | Toward a standard reference database for computer-aided mammography | Not Accessible | Mammogram_Images | Ics | USA\\nMagic-5  | Contains 3369 images from 967 cases. | Breast_Cancer_Detection | Not available | MAGIC-5: an Italian mammographic database of digitised images for research | Not Accessible | Mammogram_Images | Dcm | Italy\\nMammogrid | No information found | Breast_Cancer_Detection | Not available | MammoGrid: a prototype distributed mammographic database for Europe | Not Accessible | Mammogram_Images | Dcm | UK, Italy, Switzerland\\nBreast_Cancer_Detection | Breast cancer detection involves a variety of methods to identify the presence of cancer in the breast at an early stage when treatment can be most effective.\\nBreast_Cancer_Risk_Prediction | Breast cancer risk prediction involves evaluating various factors that can influence a person's likelihood of developing breast cancer. These risk factors are often used to assess a person's risk profile and guide decisions about screening, preventive measures, and other medical interventions.\\nMammographic_Report_Generation | Mammographic Report Generation is an essential process in breast cancer detection, where radiologists analyze mammograms (X-ray images of the breast) and document their findings. These reports provide crucial information for clinicians, helping them assess breast health, identify potential abnormalities, and make decisions regarding further diagnostic workups or treatments.\\nBreast_Cancer_Type_Classification | Breast Cancer Type Classification refers to the process of classifying the type of breast cancer based on features extracted from various sources such as medical imaging. The goal is to categorize cancer into various types, such as invasive or non-invasive, based on these features.\\nBreast_Tumor_Classification | Breast Tumor Classification refers to the process of classifying breast tumors into different categories based on their nature (benign or malignant).\\nTumor_Localization | Tumor Localization refers to the process of identifying and pinpointing the exact location of a tumor within the body. This is a crucial step in diagnosing cancer, planning treatment strategies, and monitoring tumor progression or response to therapy\\nBreast_Density_Estimation | Breast density estimation refers to the process of assessing the density of breast tissue, typically using mammogram images. Breast density is an important factor in breast cancer risk assessment because dense breast tissue can make it harder to detect tumors on mammograms and is also associated with an increased risk of developing breast cancer.\\nSynthetic_Data_Generation | Synthetic data generation refers to the process of creating artificial datasets that mimic real-world data but are not directly collected from real-world events or observations. This generated data can be used for various applications, including training machine learning models, testing algorithms, conducting simulations, and augmenting real datasets in a way that preserves the statistical properties of the original data.\\nImage_Segmentation | Image segmentation is a critical task in computer vision that involves dividing an image into multiple segments or regions, each of which corresponds to a specific part of the image. The goal is to simplify or change the representation of an image, making it more meaningful and easier to analyze.\\nMulti_Modal_Learning | Multi-modal learning refers to the ability of a machine learning model to process and integrate data from multiple modalities or sources, such as images, text, audio, video, and more. Instead of relying on a single data type, multi-modal learning aims to combine these diverse types of data to create richer and more robust models that can perform more complex tasks by leveraging the complementary information provided by each modality.\\nLesion_Localization | Lesion localization refers to the process of identifying and locating abnormal regions or lesions in medical images. Lesions can appear as tumors, cysts, or any other abnormal tissue that differs from the surrounding healthy tissue.\\nAnomaly_Detection | Anomaly detection, also known as outlier detection, refers to the process of identifying patterns or data points that deviate significantly from the expected behavior or normal distribution of the data.\\nClass_Balancing | Class balancing is a critical concept in machine learning and data science, particularly when dealing with imbalanced datasets, where the distribution of instances across classes is not uniform.\\nBIRADS_Category_Classification | BIRADS (Breast Imaging-Reporting and Data System) is a standardized system to categorize breast lesions identified in mammography, ultrasound, and magnetic resonance imaging (MRI). The BIRADS system helps radiologists classify breast abnormalities based on their appearance in imaging studies and provides a framework for communicating the likelihood of malignancy, guiding clinical decision-making and follow-up actions.\\nAccessible | The dataset can be accessed without fulfilling any requirements\\nNot Accessible | The dataset cannot be accessed or not available or only accessible to limited audience\\nNeed to sign agreement to access | The dataset can be accessed after signing agreement and fulfilling some requirements\\nMammogram_Images | A mammogram is a specialized X-ray imaging technique used to screen for and diagnose breast abnormalities, including breast cancer.\\nRadiomic_Features | Radiomic features are quantitative measures derived from medical images, capturing complex patterns in tissue characteristics that are often invisible to the human eye.\\nClinical_Data | Clinical data refers to the information collected from patients during medical assessments, treatments, and follow-up care. This data is crucial in understanding patient health, diagnosing conditions, determining treatment plans, monitoring disease progression, and evaluating treatment effectiveness.\\nMetadata | Metadata refers to data about data. It provides information about other data, describing its context, structure, content, and other characteristics. In a healthcare or clinical context, metadata serves as essential information that provides context and structure to clinical and research data, making it easier to organize, find, manage, and analyze the data.\\nAnnotation_Box | An annotation box is a graphical or digital tool used to highlight or label specific areas or features within an image or dataset. In the context of medical imaging and machine learning, annotation boxes are commonly used to manually mark regions of interest (ROIs) in medical images, such as X-rays, MRIs, CT scans, or mammograms, to indicate areas that require further analysis, diagnosis, or treatment.\\nAnnotation_Masks | Annotation Masks are a type of annotation used in image processing and machine learning to define specific regions or areas of interest within an image, often in the context of tasks like image segmentation, where a detailed outline of an object or region is needed. Unlike simple bounding boxes, which enclose an object within a rectangular or square shape, annotation masks provide a pixel-wise outline of the object, allowing for more precise delineation.\\nRadiological_Reports | Radiological Reports are detailed documents created by radiologists to interpret and describe the findings from medical imaging procedures such as X-rays, CT scans, MRIs, ultrasounds, and other diagnostic imaging technologies. These reports are essential for healthcare providers, as they help inform diagnoses, treatment plans, and follow-up actions for patients.\\nDcm | DCM stands for DICOM (Digital Imaging and Communications in Medicine), which is a standard file format used for handling, storing, printing, and transmitting medical images.\\nCsv | CSV stands for Comma-Separated Values, and it is a widely used file format for storing tabular data in a plain-text format.\\nIcs | ICS in medical imaging is commonly associated with Imaging and Communication Systems or a specific file format used for image and metadata exchange.\\nOverlay | An overlay file format in the context of medical imaging refers to a file that contains additional data overlaid on an image, typically used to highlight, annotate, or analyze specific regions of interest (ROIs) in medical images like CT scans, MRIs, and X-rays.\\nLjpeg | The LJPEG file format refers to a type of JPEG (Joint Photographic Experts Group) compressed image file that is typically used for lossless compression or near-lossless compression in some imaging applications, though it isn't a widely recognized format in most common imaging workflows.\\nPgm | The PGM file format stands for Portable GrayMap. It is a part of the Netpbm family of image formats, which includes other formats like PPM (Portable PixMap) and PBM (Portable Bitmap). The PGM format is specifically designed for representing grayscale images, meaning that it stores images in varying shades of gray without color information.\\nTar | The TAR file format (short for Tape Archive) is a widely used file format in computing for storing multiple files in a single archive file. It was originally developed for backup and archival purposes on tape storage systems, but it is now commonly used in a variety of contexts, including in software distribution, data backup, and file management.\\nTz | The TZ file format is typically associated with time zone information and is primarily used to represent time zone data in a compressed binary format. It's often encountered in the context of time zone libraries and systems, particularly in Unix-like operating systems such as Linux and macOS.\\nTxt | The TXT file format is one of the most basic and widely used file formats in computing. It is used for storing plain text data without any additional formatting or metadata. TXT files are simple, universally supported, and are used across a wide range of applications and environments\\nPng | The PNG (Portable Network Graphics) file format is a widely used lossless image compression format that is commonly used for web graphics and digital images. It was designed to replace the GIF format and supports a broader range of features, such as transparency and higher color depths.\\nXlsx | The XLSX file format is a Microsoft Excel spreadsheet format used for storing data in a tabular format, including text, numbers, formulas, and charts. \\nJpg | The JPEG (Joint Photographic Experts Group) file format is one of the most commonly used formats for storing digital images, particularly photographs and artwork with gradient colors. It is a lossy compression format that achieves significant file size reduction while maintaining a relatively high image quality, making it ideal for web usage, digital photography, and storage.\\nTiff | The TIFF (Tagged Image File Format) is a flexible and high-quality image format that is widely used in professional settings, particularly for scanned images, photography, and printing.\\nUSA | A country in North America\\nSweden | A country in Europe\\nUK | A country in Europe\\nVietnam | A country in Asia\\nAustralia | A country in Oceania\\nChina | A country in Asia\\nPortugal | A country in Europe\\nSaudi Arabia | A country in Asia\\nIndia | A country in Asia\\nBrazil | A country in South America\\nGreece | A country in Europe\\nTaiwan | A country in Asia\\nSpain | A country in Europe\\nItaly | A country in Europe\\nSwitzerland | A country in Europe\\n\""
      ]
     },
     "execution_count": 12,
     "metadata": {},
     "output_type": "execute_result"
    }
   ],
   "source": [
    "combined_context"
   ]
  }
 ],
 "metadata": {
  "kernelspec": {
   "display_name": "Python 3",
   "language": "python",
   "name": "python3"
  },
  "language_info": {
   "codemirror_mode": {
    "name": "ipython",
    "version": 3
   },
   "file_extension": ".py",
   "mimetype": "text/x-python",
   "name": "python",
   "nbconvert_exporter": "python",
   "pygments_lexer": "ipython3",
   "version": "3.12.6"
  }
 },
 "nbformat": 4,
 "nbformat_minor": 2
}
